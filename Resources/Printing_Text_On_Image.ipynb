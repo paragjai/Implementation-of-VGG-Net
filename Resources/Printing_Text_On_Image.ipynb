{
 "cells": [
  {
   "cell_type": "code",
   "execution_count": null,
   "metadata": {},
   "outputs": [],
   "source": [
    "import cv2"
   ]
  },
  {
   "cell_type": "code",
   "execution_count": null,
   "metadata": {},
   "outputs": [],
   "source": [
    "label = \"cats\"\n",
    "probability_vector = [0.8927786, 0.10545093, 0.0017705 ]\n",
    "idx = np.argmax(probability_vector)"
   ]
  },
  {
   "cell_type": "markdown",
   "metadata": {},
   "source": [
    "<h3>Print the label with 2 digits in the fractional part. Also round it up appropriately.</h3>"
   ]
  },
  {
   "cell_type": "code",
   "execution_count": 56,
   "metadata": {},
   "outputs": [
    {
     "name": "stdout",
     "output_type": "stream",
     "text": [
      "cats: 89.28%\n"
     ]
    }
   ],
   "source": [
    "label_for_image1 = \"{}: {:.2f}%\".format(label, probability_vector[idx]*100)\n",
    "print(label_for_image)"
   ]
  },
  {
   "cell_type": "markdown",
   "metadata": {},
   "source": [
    "<h3>Print the label with 1 digit in the fractional part. Also round it up appropriately.</h3>"
   ]
  },
  {
   "cell_type": "code",
   "execution_count": 57,
   "metadata": {},
   "outputs": [
    {
     "name": "stdout",
     "output_type": "stream",
     "text": [
      "cats: 89.3%\n"
     ]
    }
   ],
   "source": [
    "label_for_image2 = \"{}: {:.1f}%\".format(label, probability_vector[idx]*100)\n",
    "print(label_for_image2)"
   ]
  },
  {
   "cell_type": "markdown",
   "metadata": {},
   "source": [
    "<h3>Print the label with 3 digits in the fractional part. Also round it up appropriately.</h3>"
   ]
  },
  {
   "cell_type": "code",
   "execution_count": 58,
   "metadata": {},
   "outputs": [
    {
     "name": "stdout",
     "output_type": "stream",
     "text": [
      "cats: 89.278%\n"
     ]
    }
   ],
   "source": [
    "label_for_image3 = \"{}: {:.3f}%\".format(label, probability_vector[idx]*100)\n",
    "print(label_for_image3)"
   ]
  },
  {
   "cell_type": "markdown",
   "metadata": {},
   "source": [
    "<h3>Load the image</h3>"
   ]
  },
  {
   "cell_type": "code",
   "execution_count": 59,
   "metadata": {},
   "outputs": [],
   "source": [
    "image = cv2.imread(\"cats_00001.jpg\")"
   ]
  },
  {
   "cell_type": "markdown",
   "metadata": {},
   "source": [
    "<h3> Put text on the image </h3>\n",
    "putText(...)<br>\n",
    "    putText(img, text, org, fontFace, fontScale, color[, thickness[, lineType[, bottomLeftOrigin]]]) -> img<br>\n",
    "    .   @brief Draws a text string.<br>\n",
    "    .\n",
    "    .   The function putText renders the specified text string in the image. Symbols that cannot be rendered<br>\n",
    "    .   using the specified font are replaced by question marks. See getTextSize for a text rendering code<br>\n",
    "    .   example.<br>\n",
    "    .\n",
    "    .   @param img Image.<br>\n",
    "    .   @param text Text string to be drawn.<br>\n",
    "    .   @param org <b>Bottom-left corner of the text string in the image.</b><br>\n",
    "    .   @param fontFace Font type, see cv::HersheyFonts.<br>\n",
    "    .   @param fontScale Font scale factor that is multiplied by the font-specific base size.<br>\n",
    "    .   @param color Text color.<br>\n",
    "    .   @param thickness Thickness of the lines used to draw a text.<br>\n",
    "    .   @param lineType Line type. See the line for details.<br>\n",
    "    .   @param bottomLeftOrigin When true, the image data origin is at the bottom-left corner. Otherwise,\n",
    "    .   it is at the top-left corner.<br>"
   ]
  },
  {
   "cell_type": "code",
   "execution_count": 60,
   "metadata": {},
   "outputs": [],
   "source": [
    "cv2.putText(image, label_for_image1, (10, 25), cv2.FONT_HERSHEY_SIMPLEX, 0.7, (0,255,0), 2)"
   ]
  },
  {
   "cell_type": "markdown",
   "metadata": {},
   "source": [
    "<h3>Display the image</h3>\n",
    "<ul>\n",
    "    <li> cv2.imshow : Avoid using this on Jupyter notebook </li>\n",
    "    <li> plt.imshow : Use this preferably </li>\n",
    "</ul>"
   ]
  },
  {
   "cell_type": "markdown",
   "metadata": {},
   "source": [
    "<b>cv2.imshow : Don't run it. It will hang </b>"
   ]
  },
  {
   "cell_type": "code",
   "execution_count": null,
   "metadata": {},
   "outputs": [],
   "source": [
    "cv2.imshow(\"image_with_text\", image) # Results in an error in Jupyter notebook.\n",
    "cv2.waitKey(0)"
   ]
  },
  {
   "cell_type": "markdown",
   "metadata": {},
   "source": [
    "<b>plt.imshow : Prefer this on </b>"
   ]
  },
  {
   "cell_type": "code",
   "execution_count": null,
   "metadata": {},
   "outputs": [],
   "source": [
    "from matplotlib import pyplot as plt\n",
    "plt.imshow(image)\n",
    "plt.show()"
   ]
  },
  {
   "cell_type": "code",
   "execution_count": null,
   "metadata": {},
   "outputs": [],
   "source": []
  }
 ],
 "metadata": {
  "kernelspec": {
   "display_name": "Python 3",
   "language": "python",
   "name": "python3"
  },
  "language_info": {
   "codemirror_mode": {
    "name": "ipython",
    "version": 3
   },
   "file_extension": ".py",
   "mimetype": "text/x-python",
   "name": "python",
   "nbconvert_exporter": "python",
   "pygments_lexer": "ipython3",
   "version": "3.6.4"
  }
 },
 "nbformat": 4,
 "nbformat_minor": 2
}
